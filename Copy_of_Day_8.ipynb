{
  "nbformat": 4,
  "nbformat_minor": 0,
  "metadata": {
    "colab": {
      "private_outputs": true,
      "provenance": [],
      "include_colab_link": true
    },
    "kernelspec": {
      "name": "python3",
      "display_name": "Python 3"
    },
    "language_info": {
      "name": "python"
    }
  },
  "cells": [
    {
      "cell_type": "markdown",
      "metadata": {
        "id": "view-in-github",
        "colab_type": "text"
      },
      "source": [
        "<a href=\"https://colab.research.google.com/github/shivamvij100/data-science/blob/main/Copy_of_Day_8.ipynb\" target=\"_parent\"><img src=\"https://colab.research.google.com/assets/colab-badge.svg\" alt=\"Open In Colab\"/></a>"
      ]
    },
    {
      "cell_type": "code",
      "execution_count": null,
      "metadata": {
        "id": "O8R1g838va4T"
      },
      "outputs": [],
      "source": [
        "import qrcode\n",
        "img = qrcode.make('https://colab.research.google.com/drive/1zvMVzM8lyhe10gqBfO8GEKT_mfV_MJ7B?usp=sharing')\n",
        "img.save('myqr.png')\n"
      ]
    },
    {
      "cell_type": "code",
      "source": [
        "# pip install qrcode"
      ],
      "metadata": {
        "id": "P4JIW9d3vgwd"
      },
      "execution_count": null,
      "outputs": []
    },
    {
      "cell_type": "code",
      "source": [
        "# Python Webscraping Project\n",
        "# Scrap Website\n",
        "# Store data in database\n",
        "#"
      ],
      "metadata": {
        "id": "2zOI_3LKvimc"
      },
      "execution_count": null,
      "outputs": []
    },
    {
      "cell_type": "code",
      "source": [
        "import requests as r\n",
        "url = '''https://en.wikipedia.org/wiki/List_of_Indians_by_net_worth'''\n",
        "\n",
        "response = r.get(url)\n",
        "response"
      ],
      "metadata": {
        "id": "LqQBteqYxmgv"
      },
      "execution_count": null,
      "outputs": []
    },
    {
      "cell_type": "code",
      "source": [
        "html_data = response.content\n",
        "print(html_data)"
      ],
      "metadata": {
        "id": "QbzJdS6C2kgY"
      },
      "execution_count": null,
      "outputs": []
    },
    {
      "cell_type": "code",
      "source": [
        "# pip install beautifulsoup4"
      ],
      "metadata": {
        "id": "pCa46G7R3QYG"
      },
      "execution_count": null,
      "outputs": []
    },
    {
      "cell_type": "code",
      "source": [
        "from bs4 import BeautifulSoup\n",
        "soup = BeautifulSoup(html_data)\n",
        "print('Done')"
      ],
      "metadata": {
        "id": "gk5lgMyW4BPa"
      },
      "execution_count": null,
      "outputs": []
    },
    {
      "cell_type": "code",
      "source": [
        "students = ['karan','Ravi','Ajay','Mohan']\n",
        "for index_no,value in enumerate(students):\n",
        "  if 1<= index_no <= 2:\n",
        "    print(index_no,value)"
      ],
      "metadata": {
        "id": "bD_nzW__9oG8"
      },
      "execution_count": null,
      "outputs": []
    },
    {
      "cell_type": "code",
      "source": [],
      "metadata": {
        "id": "iL4i6YfD9nnc"
      },
      "execution_count": null,
      "outputs": []
    },
    {
      "cell_type": "code",
      "source": [
        "all_data = []\n",
        "\n",
        "for index_no, value in enumerate(soup.find_all('tr')):\n",
        "  if 0<= index_no <= 24:\n",
        "    # print(index_no, value.text)\n",
        "    temp_data = value.text.splitlines()\n",
        "    print(temp_data)\n",
        "    while '' in temp_data:\n",
        "      temp_data.remove('')\n",
        "\n",
        "    all_data.append(temp_data)\n",
        "\n",
        "print('Done')"
      ],
      "metadata": {
        "id": "eUDKeDuh4teS"
      },
      "execution_count": null,
      "outputs": []
    },
    {
      "cell_type": "code",
      "source": [
        "column = all_data[0]\n",
        "final_data = all_data[1:]"
      ],
      "metadata": {
        "id": "4lB5qWQhDGKN"
      },
      "execution_count": null,
      "outputs": []
    },
    {
      "cell_type": "code",
      "source": [
        "# column.remove('Change')"
      ],
      "metadata": {
        "id": "iHl53dEaGeyw"
      },
      "execution_count": null,
      "outputs": []
    },
    {
      "cell_type": "code",
      "source": [
        "column"
      ],
      "metadata": {
        "id": "774iJgowGrA2"
      },
      "execution_count": null,
      "outputs": []
    },
    {
      "cell_type": "code",
      "source": [
        "import pandas as pd\n",
        "final_columns = ['Rank','Name','Net worth (USD)','Company Name','Sources of wealth','None','None']\n",
        "rich_list = pd.DataFrame(final_data,columns = final_columns)\n",
        "\n",
        "rich_list\n",
        "\n",
        "final_df = rich_list.drop('None',axis = 1)\n",
        "\n",
        "final_df.to_excel('Rich_list.xlsx')\n",
        "print('Done')"
      ],
      "metadata": {
        "id": "SauEY5sZ5n0T"
      },
      "execution_count": null,
      "outputs": []
    },
    {
      "cell_type": "code",
      "source": [
        "import pymysql as py\n",
        "\n",
        "conn = py.connect(host = 'localhost',\n",
        "                  user = 'root',\n",
        "                  password='1234',\n",
        "                  autocommit = True)\n",
        "cur = conn.cursor()\n",
        "print('Done')"
      ],
      "metadata": {
        "id": "94O1OwcTCJ_Y"
      },
      "execution_count": null,
      "outputs": []
    },
    {
      "cell_type": "code",
      "source": [
        "query = 'create database wiki;'\n",
        "\n",
        "cur.execute(query)\n",
        "print('Done')"
      ],
      "metadata": {
        "id": "tUBMzhnSOpBd"
      },
      "execution_count": null,
      "outputs": []
    },
    {
      "cell_type": "code",
      "source": [
        "table_column = ['rich_' + i.replace(' ','_').replace('(USD)','US_Dollar')  for i in final_df.columns]\n",
        "table_column"
      ],
      "metadata": {
        "id": "GjXGK41EP1qU"
      },
      "execution_count": null,
      "outputs": []
    },
    {
      "cell_type": "code",
      "source": [
        "' varchar(255), '.join(table_column) + ' varchar(255)'"
      ],
      "metadata": {
        "id": "GsxWqeYZP2Ll"
      },
      "execution_count": null,
      "outputs": []
    },
    {
      "cell_type": "code",
      "source": [
        "query_part = ' varchar(255), '.join(table_column) + ' varchar(255)'\n",
        "\n",
        "query = '''Create table wiki.rich_list (''' + query_part + ');'\n",
        "\n",
        "print(query)"
      ],
      "metadata": {
        "id": "nd-4ZnugR0C0"
      },
      "execution_count": null,
      "outputs": []
    },
    {
      "cell_type": "code",
      "source": [
        "cur.execute(query)\n",
        "print('Done')"
      ],
      "metadata": {
        "id": "ZCwK1m4pjcju"
      },
      "execution_count": null,
      "outputs": []
    },
    {
      "cell_type": "code",
      "source": [
        "# Insert data\n",
        "\n",
        "for i in final_df.itertuples():\n",
        "    value = tuple(i)[1:]\n",
        "\n",
        "    query = f'''insert into wiki.rich_list values {value};'''\n",
        "    # print(query)\n",
        "    cur.execute(query)\n",
        "\n",
        "print('Done')"
      ],
      "metadata": {
        "id": "6cwfLkwjjfkD"
      },
      "execution_count": null,
      "outputs": []
    },
    {
      "cell_type": "code",
      "source": [],
      "metadata": {
        "id": "wNjYZG0KjsO0"
      },
      "execution_count": null,
      "outputs": []
    }
  ]
}