{
 "cells": [
  {
   "cell_type": "code",
   "execution_count": null,
   "id": "7c166124-b76e-4cfe-9386-277c4c8edfc4",
   "metadata": {},
   "outputs": [],
   "source": [
    "Q1 the list uses [] kind of brackets and tuple uses () kind of brackets.\n",
    "tuple = (1,2,3,4,5,6,7)\n",
    "list = [lion,elephant,tiger]"
   ]
  },
  {
   "cell_type": "code",
   "execution_count": null,
   "id": "ee4c5675-84ef-4ba5-a620-2e38147929a7",
   "metadata": {},
   "outputs": [],
   "source": [
    "Q2 imput are for the character type values,int(input)() is used for conversion of integer."
   ]
  },
  {
   "cell_type": "code",
   "execution_count": null,
   "id": "d58414c5-54bc-479e-a875-cfb660c62ec8",
   "metadata": {},
   "outputs": [],
   "source": [
    "Q3 the dictionaries are the like the tuples,list for storing data it is a built in datatype to store\n",
    "data"
   ]
  },
  {
   "cell_type": "code",
   "execution_count": null,
   "id": "ce76a5e4-a005-45df-b93e-7633ec806112",
   "metadata": {},
   "outputs": [],
   "source": [
    "Q4 for loop is a kind of loop in python in which we use it,as we use it to start any kind of iTH term,\n",
    "iTH term is the start of loop and gives a response where will it go by i++,i+1,i+2,i+3 etc."
   ]
  },
  {
   "cell_type": "code",
   "execution_count": 4,
   "id": "a68ad9e5-4701-4318-be50-ac3f295fc5b8",
   "metadata": {
    "scrolled": true
   },
   "outputs": [
    {
     "name": "stdout",
     "output_type": "stream",
     "text": [
      "1\n",
      "2\n",
      "3\n",
      "4\n",
      "5\n"
     ]
    }
   ],
   "source": [
    "i=1\n",
    "for i in range(i,i+5):\n",
    "    print(i)"
   ]
  },
  {
   "cell_type": "code",
   "execution_count": null,
   "id": "0c945d7c-dbf2-49b1-a27d-ae2e432a34d2",
   "metadata": {},
   "outputs": [],
   "source": [
    "Q5 exception handling refers to resolving the exception , handling it and resolving till the end \n",
    "if any by the terms called as try except or finally,\n",
    "try is the first priority of code in which it prefers that try code first then after it except and \n",
    "finally after that.\n"
   ]
  },
  {
   "cell_type": "code",
   "execution_count": null,
   "id": "01a91fab-6e6c-4456-84cb-34be5c392b57",
   "metadata": {},
   "outputs": [],
   "source": [
    "Q6 python modules are the very helpful in python as python modules helps us to write code easily,\n",
    "and also helps in many operations to perform a specific type of operation whether it is of maths,\n",
    "performing additions subtractions,etc and pandas are also a module in python , and tensor also used\n",
    "to perfrom high level coding operations in python."
   ]
  },
  {
   "cell_type": "code",
   "execution_count": null,
   "id": "4cba10dc-b632-4735-b2d1-e4070e54a354",
   "metadata": {},
   "outputs": [],
   "source": [
    "import math helps to import diff type of variables , constraints  and constants from the python \n",
    "from math only used to access using sqrt"
   ]
  },
  {
   "cell_type": "code",
   "execution_count": null,
   "id": "14e04bf9-6f16-433f-a8db-30d0e18eabcd",
   "metadata": {},
   "outputs": [],
   "source": [
    "Q7 object oriented programming is the kind of programming in python that uses encapsulation,\n",
    "abstraction,inheritence are the used keywords used in oops , classes are the block of code to run the\n",
    "main code in it , objects are made and also called at the last of the program to run the object code\n",
    "in the respected code."
   ]
  },
  {
   "cell_type": "code",
   "execution_count": null,
   "id": "8c5d8a28-5ca0-4e4c-bfb6-531547e785c2",
   "metadata": {},
   "outputs": [],
   "source": [
    "Q8 list comprehension is the process of runnning the loop in the code without any error in code"
   ]
  },
  {
   "cell_type": "code",
   "execution_count": 9,
   "id": "ea199a81-5bf7-4a40-a079-cc14196ed803",
   "metadata": {},
   "outputs": [],
   "source": [
    "result=['lion','elephant','tiger']\n",
    "for x in range(10):\n",
    "    if x%2 == 0:\n",
    "        result.append(x*2)"
   ]
  },
  {
   "cell_type": "code",
   "execution_count": 16,
   "id": "08b93bf5-8973-4764-94a6-66161d1000be",
   "metadata": {},
   "outputs": [
    {
     "name": "stdin",
     "output_type": "stream",
     "text": [
      "Enter your name:  shivam\n",
      "Enter your age:  18\n"
     ]
    },
    {
     "name": "stdout",
     "output_type": "stream",
     "text": [
      "helloshivam, you are 18 years old. \n"
     ]
    }
   ],
   "source": [
    "Q10 \n",
    "name = input(\"Enter your name: \") \n",
    "age = int(input(\"Enter your age: \")) \n",
    "print(f\"hello{name}, you are {age} years old. \")"
   ]
  },
  {
   "cell_type": "code",
   "execution_count": null,
   "id": "ddecda2b-9b3c-41df-a399-493009b1ae65",
   "metadata": {},
   "outputs": [],
   "source": []
  }
 ],
 "metadata": {
  "kernelspec": {
   "display_name": "Python [conda env:base] *",
   "language": "python",
   "name": "conda-base-py"
  },
  "language_info": {
   "codemirror_mode": {
    "name": "ipython",
    "version": 3
   },
   "file_extension": ".py",
   "mimetype": "text/x-python",
   "name": "python",
   "nbconvert_exporter": "python",
   "pygments_lexer": "ipython3",
   "version": "3.13.5"
  }
 },
 "nbformat": 4,
 "nbformat_minor": 5
}
