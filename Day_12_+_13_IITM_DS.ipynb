{
  "nbformat": 4,
  "nbformat_minor": 0,
  "metadata": {
    "colab": {
      "private_outputs": true,
      "provenance": [],
      "include_colab_link": true
    },
    "kernelspec": {
      "name": "python3",
      "display_name": "Python 3"
    },
    "language_info": {
      "name": "python"
    }
  },
  "cells": [
    {
      "cell_type": "markdown",
      "metadata": {
        "id": "view-in-github",
        "colab_type": "text"
      },
      "source": [
        "<a href=\"https://colab.research.google.com/github/shivamvij100/data-science/blob/main/Day_12_%2B_13_IITM_DS.ipynb\" target=\"_parent\"><img src=\"https://colab.research.google.com/assets/colab-badge.svg\" alt=\"Open In Colab\"/></a>"
      ]
    },
    {
      "cell_type": "code",
      "execution_count": null,
      "metadata": {
        "id": "rgJBle32PE1u"
      },
      "outputs": [],
      "source": [
        "import qrcode\n",
        "img = qrcode.make('https://colab.research.google.com/drive/1b0jwCciP9euhZ9k4LbkCJV4Z2ejcGc2Q?usp=sharing')\n",
        "img.save('myqr.png')\n"
      ]
    },
    {
      "cell_type": "code",
      "source": [
        "# pip install qrcode"
      ],
      "metadata": {
        "id": "eFpZPRrRPQWS"
      },
      "execution_count": null,
      "outputs": []
    },
    {
      "cell_type": "code",
      "source": [
        "# fillna\n",
        "# replace\n",
        "# drop\n",
        "# Drop_duplicates\n",
        "# Duplicated\n",
        "# Corr\n",
        "# outliers detection\n",
        "# pivot table\n",
        "\n",
        "# Matplotlib Charts\n",
        "'''Bar, Pie, Line, Box, violin'''\n",
        "# Seaborn Charts\n",
        "'''Bar, Line, Heatmap, Box, Violin, CatPlot, Regplolt, lmplot'''\n",
        "\n",
        "#Feature Engineering\n",
        "print('Topics for Today')"
      ],
      "metadata": {
        "id": "CqlfxegkPR_K"
      },
      "execution_count": null,
      "outputs": []
    },
    {
      "cell_type": "code",
      "source": [
        "'''https://www.kaggle.com/datasets/patrickb1912/ipl-complete-dataset-20082020'''"
      ],
      "metadata": {
        "id": "4UT_caI8Qykf"
      },
      "execution_count": null,
      "outputs": []
    },
    {
      "cell_type": "code",
      "source": [
        "import kagglehub\n",
        "\n",
        "# Download latest version\n",
        "path = kagglehub.dataset_download(\"patrickb1912/ipl-complete-dataset-20082020\")\n",
        "\n",
        "print(\"Path to dataset files:\", path)"
      ],
      "metadata": {
        "id": "LeNU6UuZR8fI"
      },
      "execution_count": null,
      "outputs": []
    },
    {
      "cell_type": "code",
      "source": [
        "import os\n",
        "file_one,file_two = os.listdir(path)\n",
        "print('Done')"
      ],
      "metadata": {
        "id": "LPvnYEQ5SFFA"
      },
      "execution_count": null,
      "outputs": []
    },
    {
      "cell_type": "code",
      "source": [
        "file_one_path = path + '/' + file_one\n",
        "file_two_path = path + '/' + file_two"
      ],
      "metadata": {
        "id": "pcsi7UQXSjlh"
      },
      "execution_count": null,
      "outputs": []
    },
    {
      "cell_type": "code",
      "source": [
        "print(file_one_path)\n",
        "print(file_two_path)"
      ],
      "metadata": {
        "id": "B-iXF0nWTz29"
      },
      "execution_count": null,
      "outputs": []
    },
    {
      "cell_type": "code",
      "source": [
        "# Step1 : Modules Import\n",
        "import pandas as pd\n",
        "import matplotlib.pyplot as plt\n",
        "import numpy as np\n",
        "import seaborn as sns\n",
        "print('Done')"
      ],
      "metadata": {
        "id": "wNvqc4CQT3Hb"
      },
      "execution_count": null,
      "outputs": []
    },
    {
      "cell_type": "code",
      "source": [
        "df_matches = pd.read_csv(file_one_path)\n",
        "df_deliveries = pd.read_csv(file_two_path)\n",
        "\n",
        "print('Done')"
      ],
      "metadata": {
        "id": "rvtTSItBUL8q"
      },
      "execution_count": null,
      "outputs": []
    },
    {
      "cell_type": "code",
      "source": [
        "# EDA\n",
        "df_matches.head(2)"
      ],
      "metadata": {
        "id": "2e491K0pU-dK"
      },
      "execution_count": null,
      "outputs": []
    },
    {
      "cell_type": "code",
      "source": [
        "df_deliveries.head(2)"
      ],
      "metadata": {
        "id": "oVX-fcb-VieK"
      },
      "execution_count": null,
      "outputs": []
    },
    {
      "cell_type": "code",
      "source": [
        "df_matches.shape"
      ],
      "metadata": {
        "id": "2e9lb3i0Vp35"
      },
      "execution_count": null,
      "outputs": []
    },
    {
      "cell_type": "code",
      "source": [
        "df_deliveries.shape"
      ],
      "metadata": {
        "id": "VcCz8LfPVoq5"
      },
      "execution_count": null,
      "outputs": []
    },
    {
      "cell_type": "code",
      "source": [
        "# Info"
      ],
      "metadata": {
        "id": "f-MjzVfyWlPC"
      },
      "execution_count": null,
      "outputs": []
    },
    {
      "cell_type": "code",
      "source": [
        "df_matches.info()"
      ],
      "metadata": {
        "id": "sqkNG8paXEe3"
      },
      "execution_count": null,
      "outputs": []
    },
    {
      "cell_type": "code",
      "source": [
        "# columns\n",
        "df_matches.columns"
      ],
      "metadata": {
        "id": "_zbS215LXHQr"
      },
      "execution_count": null,
      "outputs": []
    },
    {
      "cell_type": "code",
      "source": [
        "# Null values count\n",
        "df_matches.isna().sum().sort_values(ascending = False)"
      ],
      "metadata": {
        "id": "PHhYd55hXYez"
      },
      "execution_count": null,
      "outputs": []
    },
    {
      "cell_type": "code",
      "source": [
        "# Heatmap\n",
        "\n",
        "sns.heatmap(df_matches.isna())\n",
        "plt.show()"
      ],
      "metadata": {
        "id": "BsahKDWZXhBh"
      },
      "execution_count": null,
      "outputs": []
    },
    {
      "cell_type": "code",
      "source": [
        "# Null values count\n",
        "df_matches.isna().mean().sort_values(ascending = False)*100"
      ],
      "metadata": {
        "id": "DgyBrv3HYGrQ"
      },
      "execution_count": null,
      "outputs": []
    },
    {
      "cell_type": "code",
      "source": [
        "df_matches['method'].value_counts()"
      ],
      "metadata": {
        "id": "YMWUgVpIZjDA"
      },
      "execution_count": null,
      "outputs": []
    },
    {
      "cell_type": "code",
      "source": [
        "df_matches['method'].fillna('Normal method',inplace = True)\n",
        "print('done')"
      ],
      "metadata": {
        "id": "MWq5yUTyaCB4"
      },
      "execution_count": null,
      "outputs": []
    },
    {
      "cell_type": "code",
      "source": [
        "df_matches['city'].value_counts()"
      ],
      "metadata": {
        "id": "BoC0L_wXbB0v"
      },
      "execution_count": null,
      "outputs": []
    },
    {
      "cell_type": "code",
      "source": [
        "# masking\n",
        "\n",
        "df_matches[df_matches['city'].isna()]"
      ],
      "metadata": {
        "id": "ckeScA31c1KX"
      },
      "execution_count": null,
      "outputs": []
    },
    {
      "cell_type": "code",
      "source": [
        "df_matches['city'].fillna('UAE',inplace = True)\n",
        "print('Done')"
      ],
      "metadata": {
        "id": "bN-dYFv2dohr"
      },
      "execution_count": null,
      "outputs": []
    },
    {
      "cell_type": "code",
      "source": [
        "# Null values count\n",
        "df_matches.isna().mean().sort_values(ascending = False)*100"
      ],
      "metadata": {
        "id": "vz9tWsrDe4-Z"
      },
      "execution_count": null,
      "outputs": []
    },
    {
      "cell_type": "code",
      "source": [
        "df_matches[df_matches['result_margin'].isna()]"
      ],
      "metadata": {
        "id": "zKAnOTf9gRJV"
      },
      "execution_count": null,
      "outputs": []
    },
    {
      "cell_type": "code",
      "source": [
        "df_matches['result_margin'].info()"
      ],
      "metadata": {
        "id": "AG2yLjgPgU-4"
      },
      "execution_count": null,
      "outputs": []
    },
    {
      "cell_type": "code",
      "source": [
        "df_matches['result_margin'].fillna(0,inplace = True)"
      ],
      "metadata": {
        "id": "W2SpVT50h0lx"
      },
      "execution_count": null,
      "outputs": []
    },
    {
      "cell_type": "code",
      "source": [
        "# Columns with Missing Values\n",
        "# winner,player_of_match,target_overs,target_overs"
      ],
      "metadata": {
        "id": "C3f2fgcYiLF5"
      },
      "execution_count": null,
      "outputs": []
    },
    {
      "cell_type": "code",
      "source": [
        "df_matches[df_matches['winner'].isna()]"
      ],
      "metadata": {
        "id": "bQeVS9omiZhG"
      },
      "execution_count": null,
      "outputs": []
    },
    {
      "cell_type": "code",
      "source": [
        "df_matches.fillna({'player_of_match':'No Player of the match',\n",
        "                   'winner':'No winner'}, inplace= True)\n",
        "print('Done')"
      ],
      "metadata": {
        "id": "Zy0D2sj3ipup"
      },
      "execution_count": null,
      "outputs": []
    },
    {
      "cell_type": "code",
      "source": [
        "df_matches.fillna(0,inplace = True)\n",
        "print('Done')"
      ],
      "metadata": {
        "id": "-A03YF5mji3y"
      },
      "execution_count": null,
      "outputs": []
    },
    {
      "cell_type": "code",
      "source": [
        "df_matches.isna().sum()"
      ],
      "metadata": {
        "id": "rV7WQ1cElHKG"
      },
      "execution_count": null,
      "outputs": []
    },
    {
      "cell_type": "code",
      "source": [
        "sns.heatmap(df_matches.isna())"
      ],
      "metadata": {
        "id": "gtELhv4alXAF"
      },
      "execution_count": null,
      "outputs": []
    },
    {
      "cell_type": "code",
      "source": [
        "df_matches['city'].value_counts()"
      ],
      "metadata": {
        "id": "3X42A1c_mFlT"
      },
      "execution_count": null,
      "outputs": []
    },
    {
      "cell_type": "code",
      "source": [
        "data_rp = {'Navi Mumbai':'Mumbai',\n",
        "           'Bengaluru':'Bangalore',\n",
        "           'Sharjah':'UAE',\n",
        "           'Abu Dhabi':'UAE','Kimberley':'Cape Town','Dubai':'UAE'}\n",
        "\n",
        "\n",
        "df_matches.replace(data_rp,inplace = True)\n",
        "print('Done')"
      ],
      "metadata": {
        "id": "-T-F-bWwmtfk"
      },
      "execution_count": null,
      "outputs": []
    },
    {
      "cell_type": "code",
      "source": [
        "df_matches.columns"
      ],
      "metadata": {
        "id": "fFm65WtgoDRG"
      },
      "execution_count": null,
      "outputs": []
    },
    {
      "cell_type": "code",
      "source": [
        "# check Duplicacy"
      ],
      "metadata": {
        "id": "Ru02p1zso8yY"
      },
      "execution_count": null,
      "outputs": []
    },
    {
      "cell_type": "code",
      "source": [
        "df_matches.duplicated('id').value_counts()"
      ],
      "metadata": {
        "id": "2uvYAXPNqIYY"
      },
      "execution_count": null,
      "outputs": []
    },
    {
      "cell_type": "code",
      "source": [
        "df_matches.drop_duplicates('id',inplace = True)\n",
        "print('Done')"
      ],
      "metadata": {
        "id": "AGcXaqaUqLKf"
      },
      "execution_count": null,
      "outputs": []
    },
    {
      "cell_type": "code",
      "source": [
        "df_matches.info()"
      ],
      "metadata": {
        "id": "yA8kNAqRqeAU"
      },
      "execution_count": null,
      "outputs": []
    },
    {
      "cell_type": "code",
      "source": [
        "# Date column must be in date dtype"
      ],
      "metadata": {
        "id": "y7a1932LqfY6"
      },
      "execution_count": null,
      "outputs": []
    },
    {
      "cell_type": "code",
      "source": [
        "df_matches['date'] = pd.to_datetime(df_matches['date'])\n",
        "print('done')"
      ],
      "metadata": {
        "id": "jb1ry7dorOU5"
      },
      "execution_count": null,
      "outputs": []
    },
    {
      "cell_type": "code",
      "source": [
        "df_matches.info()"
      ],
      "metadata": {
        "id": "kViaRWVfrWSN"
      },
      "execution_count": null,
      "outputs": []
    },
    {
      "cell_type": "code",
      "source": [],
      "metadata": {
        "id": "xqZsH2nUrheT"
      },
      "execution_count": null,
      "outputs": []
    },
    {
      "cell_type": "code",
      "source": [
        "df_matches['venue'].str.split(',')"
      ],
      "metadata": {
        "id": "brqF96w2sE18"
      },
      "execution_count": null,
      "outputs": []
    },
    {
      "cell_type": "code",
      "source": [
        "df_matches['venue'] = df_matches['venue'].apply(lambda row: row.title().split(',')[0])\n",
        "print('Done')"
      ],
      "metadata": {
        "id": "sCJTIO6kuZIG"
      },
      "execution_count": null,
      "outputs": []
    },
    {
      "cell_type": "code",
      "source": [
        "df_matches['venue'].value_counts().reset_index()"
      ],
      "metadata": {
        "id": "n366N5DZvaP8"
      },
      "execution_count": null,
      "outputs": []
    },
    {
      "cell_type": "code",
      "source": [
        "data_v_rp = {'M.Chinnaswamy Stadium':'M Chinnaswamy Stadium',\n",
        "             'Feroz Shah Kotla':'Arun Jaitley Stadium',\n",
        "             'Sardar Patel Stadium':'Narendra Modi Stadium',\n",
        "             'Punjab Cricket Association Is Bindra Stadium':'Punjab Cricket Association Stadium'}\n",
        "\n",
        "df_matches['venue'].replace(data_v_rp,inplace = True)\n",
        "print('Done')"
      ],
      "metadata": {
        "id": "2K6bYwW4wAAG"
      },
      "execution_count": null,
      "outputs": []
    },
    {
      "cell_type": "code",
      "source": [
        "x = df_matches['venue'].value_counts().head(10).index\n",
        "y = df_matches['venue'].value_counts().head(10).values\n",
        "\n",
        "\n",
        "plt.figure(figsize = (7,5))\n",
        "ax = plt.barh(x,y,color = sns.color_palette('rainbow',10))\n",
        "plt.bar_label(ax)\n",
        "plt.title('Top 10 venue by Matches Played')\n",
        "plt.xticks(rotation = 90)\n",
        "plt.show()"
      ],
      "metadata": {
        "id": "mobZlHFpydWS"
      },
      "execution_count": null,
      "outputs": []
    },
    {
      "cell_type": "code",
      "source": [],
      "metadata": {
        "id": "FcNL279zDYvH"
      },
      "execution_count": null,
      "outputs": []
    },
    {
      "cell_type": "code",
      "source": [
        "df_matches['team1'].value_counts().reset_index()"
      ],
      "metadata": {
        "id": "v5fODqrDygkx"
      },
      "execution_count": null,
      "outputs": []
    },
    {
      "cell_type": "code",
      "source": [
        "df_matches['team2'].value_counts().reset_index()"
      ],
      "metadata": {
        "id": "P--HlybIBfq6"
      },
      "execution_count": null,
      "outputs": []
    },
    {
      "cell_type": "code",
      "source": [
        "import warnings\n",
        "warnings.filterwarnings('ignore')\n",
        "\n",
        "team_name_rp = {'Delhi Daredevils':'Delhi Capitals',\n",
        "                'Royal Challengers Bangalore':'Royal Challengers Bengaluru',\n",
        "                'Kings XI Punjab':'Punjab Kings',\n",
        "                'Rising Pune Supergiant':'Rising Pune Supergiants',\n",
        "                'Pune Warriors':'Rising Pune Supergiants'}\n",
        "\n",
        "df_matches[['team1','team2']] = df_matches[['team1','team2']].replace(team_name_rp)\n",
        "\n",
        "print('Done')"
      ],
      "metadata": {
        "id": "y3LDY4mk_l4c"
      },
      "execution_count": null,
      "outputs": []
    },
    {
      "cell_type": "code",
      "source": [
        "# df_matches"
      ],
      "metadata": {
        "id": "fI7bk3UfBz-T"
      },
      "execution_count": null,
      "outputs": []
    },
    {
      "cell_type": "code",
      "source": [],
      "metadata": {
        "id": "K_liKwkCDMqM"
      },
      "execution_count": null,
      "outputs": []
    },
    {
      "cell_type": "code",
      "source": [
        "df_matches.sample(5)"
      ],
      "metadata": {
        "id": "h1V2HzEsEECw"
      },
      "execution_count": null,
      "outputs": []
    },
    {
      "cell_type": "code",
      "source": [
        "df_matches[['toss_winner','winner']].replace(team_name_rp, inplace = True)\n",
        "print('Done')"
      ],
      "metadata": {
        "id": "L963fK1cEeHa"
      },
      "execution_count": null,
      "outputs": []
    },
    {
      "cell_type": "code",
      "source": [
        "# Umpire1 and Umpire2"
      ],
      "metadata": {
        "id": "CTA5mV5kGIq0"
      },
      "execution_count": null,
      "outputs": []
    },
    {
      "cell_type": "code",
      "source": [
        "# Drop # Umpire1 and Umpire2"
      ],
      "metadata": {
        "id": "qpCS52LtGTy1"
      },
      "execution_count": null,
      "outputs": []
    },
    {
      "cell_type": "code",
      "source": [
        "df_matches.drop(['umpire1','umpire2'],axis= 1, inplace = True)\n",
        "print('Done')"
      ],
      "metadata": {
        "id": "memQsklpHF_5"
      },
      "execution_count": null,
      "outputs": []
    },
    {
      "cell_type": "code",
      "source": [
        "df_matches.sample(3)"
      ],
      "metadata": {
        "id": "ell10ymJHPAp"
      },
      "execution_count": null,
      "outputs": []
    },
    {
      "cell_type": "code",
      "source": [
        "team_name_rp"
      ],
      "metadata": {
        "id": "JgbEhVr8Hh-Q"
      },
      "execution_count": null,
      "outputs": []
    },
    {
      "cell_type": "code",
      "source": [
        "df_matches['toss_winner'].replace(team_name_rp,inplace = True)\n",
        "df_matches['winner'].replace(team_name_rp,inplace = True)"
      ],
      "metadata": {
        "id": "4AMt73ESHy7j"
      },
      "execution_count": null,
      "outputs": []
    },
    {
      "cell_type": "code",
      "source": [
        "# df_matches['toss_winner'].value_counts()"
      ],
      "metadata": {
        "id": "6N0zk31JH8Nd"
      },
      "execution_count": null,
      "outputs": []
    },
    {
      "cell_type": "code",
      "source": [
        "df_matches.columns"
      ],
      "metadata": {
        "id": "PTf_2aBoIJor"
      },
      "execution_count": null,
      "outputs": []
    },
    {
      "cell_type": "code",
      "source": [
        "df_matches.shape"
      ],
      "metadata": {
        "id": "XNCBH3uYIiip"
      },
      "execution_count": null,
      "outputs": []
    },
    {
      "cell_type": "code",
      "source": [
        "df_matches['winner'].value_counts()"
      ],
      "metadata": {
        "id": "vNm-4mUuInJa"
      },
      "execution_count": null,
      "outputs": []
    },
    {
      "cell_type": "code",
      "source": [
        "df_matches['match_type'].value_counts()"
      ],
      "metadata": {
        "id": "S382q-RIJDBA"
      },
      "execution_count": null,
      "outputs": []
    },
    {
      "cell_type": "code",
      "source": [
        "# List out highest ipl session winning team"
      ],
      "metadata": {
        "id": "sjW0K20lJSCh"
      },
      "execution_count": null,
      "outputs": []
    },
    {
      "cell_type": "code",
      "source": [
        "df_matches[df_matches['match_type'] == 'Final']['winner'].value_counts()"
      ],
      "metadata": {
        "id": "sJOjq2ooJiVl"
      },
      "execution_count": null,
      "outputs": []
    },
    {
      "cell_type": "code",
      "source": [
        "plt.title('Highest ipl session winning team')\n",
        "df_matches[df_matches['match_type'] == 'Final']['winner'].value_counts().plot(kind = 'pie',autopct = '%.2f%%')\n",
        "plt.show()"
      ],
      "metadata": {
        "id": "zt0OxEamJ4uX"
      },
      "execution_count": null,
      "outputs": []
    },
    {
      "cell_type": "code",
      "source": [
        "# df_matches['date'].dt.month_name()"
      ],
      "metadata": {
        "id": "dd83m63IKy2r"
      },
      "execution_count": null,
      "outputs": []
    },
    {
      "cell_type": "code",
      "source": [
        "# df_matches['date'].dt.year"
      ],
      "metadata": {
        "id": "gjtTnz8rLvYK"
      },
      "execution_count": null,
      "outputs": []
    },
    {
      "cell_type": "code",
      "source": [
        "final_match = df_matches[df_matches['match_type'] == 'Final']\n",
        "final_match"
      ],
      "metadata": {
        "id": "y2qitZoCMTsN"
      },
      "execution_count": null,
      "outputs": []
    },
    {
      "cell_type": "code",
      "source": [
        "final_match['Winning year'] = final_match['date'].dt.year\n",
        "print('Done')"
      ],
      "metadata": {
        "id": "u8MVm7DXMivU"
      },
      "execution_count": null,
      "outputs": []
    },
    {
      "cell_type": "code",
      "source": [
        "final_match"
      ],
      "metadata": {
        "id": "adTDlvgaNTlu"
      },
      "execution_count": null,
      "outputs": []
    },
    {
      "cell_type": "code",
      "source": [
        "final_match[['Winning year','winner']].sort_values('winner')"
      ],
      "metadata": {
        "id": "INeSKohQNW66"
      },
      "execution_count": null,
      "outputs": []
    },
    {
      "cell_type": "code",
      "source": [
        "final_match['result'].value_counts()"
      ],
      "metadata": {
        "id": "F0eC0h9rPF0H"
      },
      "execution_count": null,
      "outputs": []
    },
    {
      "cell_type": "code",
      "source": [
        "df_matches.groupby('venue')['result'].value_counts()"
      ],
      "metadata": {
        "id": "q6ZsDnJrQnA4"
      },
      "execution_count": null,
      "outputs": []
    },
    {
      "cell_type": "code",
      "source": [
        "final_match.groupby('venue')['result'].value_counts().reset_index().sort_values(by ='count',ascending = False)"
      ],
      "metadata": {
        "id": "32LfrNXDSM74"
      },
      "execution_count": null,
      "outputs": []
    },
    {
      "cell_type": "code",
      "source": [
        "final_match.groupby('venue')['result'].value_counts().reset_index().sort_values(by ='venue')"
      ],
      "metadata": {
        "id": "GFjws9pJS6rg"
      },
      "execution_count": null,
      "outputs": []
    },
    {
      "cell_type": "code",
      "source": [
        "df_matches.groupby('venue')['result'].value_counts().reset_index().sort_values(by ='venue')"
      ],
      "metadata": {
        "id": "2Mr652PXUBg7"
      },
      "execution_count": null,
      "outputs": []
    },
    {
      "cell_type": "code",
      "source": [
        "print('Done!!')"
      ],
      "metadata": {
        "id": "JC5nBpi9Up04"
      },
      "execution_count": null,
      "outputs": []
    },
    {
      "cell_type": "markdown",
      "source": [
        "# Day 13 IITM DS"
      ],
      "metadata": {
        "id": "Kz3Gx12ejfUm"
      }
    },
    {
      "cell_type": "code",
      "source": [
        "df_matches.sample()\n"
      ],
      "metadata": {
        "id": "nPJkHmj2kOve"
      },
      "execution_count": null,
      "outputs": []
    },
    {
      "cell_type": "code",
      "source": [
        "# Questions to be solve?\n",
        "# Each season Winner Team\n",
        "# Top 10 Match Winner team\n",
        "# Toss_dicision_value_counts\n",
        "# Result type value_counts\n",
        "# Top 10 target Runs\n",
        "# Maximum Result Margin Wins\n",
        "# Top 5 Result Margin Wins\n",
        "# Top 10 player_of_match\n",
        "# Season Player of the match"
      ],
      "metadata": {
        "id": "uiZsQOrBlFDV"
      },
      "execution_count": null,
      "outputs": []
    },
    {
      "cell_type": "code",
      "source": [
        "# Q1: all season Winner team\n",
        "final_match[['Winning year','winner']].sort_values('Winning year')"
      ],
      "metadata": {
        "id": "Xst1kgF8lWvi"
      },
      "execution_count": null,
      "outputs": []
    },
    {
      "cell_type": "code",
      "source": [],
      "metadata": {
        "id": "EnDSFEaHlXoV"
      },
      "execution_count": null,
      "outputs": []
    },
    {
      "cell_type": "markdown",
      "source": [
        "# Q2: Top 10 Match Winner team"
      ],
      "metadata": {
        "id": "VU1694mDoLmJ"
      }
    },
    {
      "cell_type": "code",
      "source": [
        "# df_matches.sample()\n",
        "df_matches['winner'].value_counts().head(10)"
      ],
      "metadata": {
        "id": "MdE0ZSqhlYo2"
      },
      "execution_count": null,
      "outputs": []
    },
    {
      "cell_type": "code",
      "source": [
        "# All Univariate analysis\n",
        "num_cols = df_matches.describe().columns\n",
        "cat_cols = df_matches.describe(include = 'O').columns"
      ],
      "metadata": {
        "id": "nopcS-SspzAU"
      },
      "execution_count": null,
      "outputs": []
    },
    {
      "cell_type": "code",
      "source": [
        "print(num_cols)"
      ],
      "metadata": {
        "id": "XoKVZKpnqQCX"
      },
      "execution_count": null,
      "outputs": []
    },
    {
      "cell_type": "code",
      "source": [
        "print(cat_cols)"
      ],
      "metadata": {
        "id": "NG2-T7WVqSfY"
      },
      "execution_count": null,
      "outputs": []
    },
    {
      "cell_type": "code",
      "source": [],
      "metadata": {
        "id": "Ore9OrCzsS5I"
      },
      "execution_count": null,
      "outputs": []
    },
    {
      "cell_type": "code",
      "source": [
        "for i in cat_cols:\n",
        "  try:\n",
        "    temp_df = df_matches[i].value_counts().head(10).sort_values(ascending = True)\n",
        "    x = temp_df.index\n",
        "    y = temp_df.values\n",
        "\n",
        "    plt.title(f'Top 10 Analysis by {i}')\n",
        "    ax = plt.barh(x,y,color = sns.color_palette('cool',10))\n",
        "    plt.bar_label(ax)\n",
        "    plt.xticks(rotation = 90)\n",
        "    plt.show()\n",
        "  except:\n",
        "    pass"
      ],
      "metadata": {
        "id": "0rBb092AqeiW"
      },
      "execution_count": null,
      "outputs": []
    },
    {
      "cell_type": "code",
      "source": [
        "# len(cat_cols)\n",
        "\n",
        "plt.figure(figsize = (30,45))\n",
        "for j,i in enumerate(cat_cols):\n",
        "  temp_df = df_matches[i].value_counts().head(10).sort_values(ascending = True)\n",
        "  x = temp_df.index\n",
        "  y = temp_df.values\n",
        "\n",
        "  plt.subplot(7,2,j+1)\n",
        "  plt.title(f'Top 10 Analysis by {i}')\n",
        "  colors = ['cool','mako','rainbow','magma','hot']\n",
        "  import random\n",
        "  ax = plt.barh(x,y,color = sns.color_palette(random.choice(colors),10))\n",
        "  plt.bar_label(ax)\n",
        "  plt.xticks(rotation = 90)\n",
        "\n",
        "plt.savefig('All_Categorical_Analysis.jpeg')\n",
        "plt.show()\n",
        "print('Done')\n"
      ],
      "metadata": {
        "id": "eQgc8unVxoyd"
      },
      "execution_count": null,
      "outputs": []
    },
    {
      "cell_type": "code",
      "source": [],
      "metadata": {
        "id": "gIozUAZ25gVb"
      },
      "execution_count": null,
      "outputs": []
    },
    {
      "cell_type": "code",
      "source": [
        "# Seaborn dataset, sklearn dataset\n",
        "# pandas\n",
        "# concat\n",
        "# merge, joins\n",
        "# pivot table\n",
        "# matplotlib\n",
        "# seaborn\n",
        "# Recap\n",
        "# # Corr\n",
        "# # outliers detection"
      ],
      "metadata": {
        "id": "wYztxh-Xjhsf"
      },
      "execution_count": null,
      "outputs": []
    },
    {
      "cell_type": "code",
      "source": [
        "# df_deliveries.sample()"
      ],
      "metadata": {
        "id": "l1xMa1yrlD_G"
      },
      "execution_count": null,
      "outputs": []
    },
    {
      "cell_type": "code",
      "source": [
        "# Top 10 target Runs\n",
        "# Maximum Result Margin Wins\n",
        "# Top 5 Result Margin Wins\n",
        "# Season Player of the match"
      ],
      "metadata": {
        "id": "FI_qcPvklOen"
      },
      "execution_count": null,
      "outputs": []
    },
    {
      "cell_type": "code",
      "source": [
        "num_cols = df_matches.describe().columns\n",
        "\n",
        "num_cols = list(num_cols)\n",
        "num_cols.remove('id')\n",
        "num_cols.remove('date')\n",
        "num_cols.remove('target_overs')\n",
        "num_cols\n",
        "\n",
        "if 'result_margin' not in num_cols:\n",
        "  num_cols.append('result_margin')\n",
        "\n",
        "print(num_cols)"
      ],
      "metadata": {
        "id": "_Y7q86XQ7Xs2"
      },
      "execution_count": null,
      "outputs": []
    },
    {
      "cell_type": "code",
      "source": [
        "# Numerical Histogram\n",
        "plt.figure(figsize = (10,4))\n",
        "for j,i in enumerate(num_cols):\n",
        "  plt.subplot(1,2,j+1)\n",
        "  plt.title(f'Distribution Analysis for {i}')\n",
        "  plt.hist(df_matches[i],color = 'red')\n",
        "plt.show()"
      ],
      "metadata": {
        "id": "YtJsGP6s7Z__"
      },
      "execution_count": null,
      "outputs": []
    },
    {
      "cell_type": "code",
      "source": [
        "# Numerical Histogram\n",
        "plt.figure(figsize = (10,4))\n",
        "for j,i in enumerate(num_cols):\n",
        "  plt.subplot(1,2,j+1)\n",
        "  plt.title(f'Distribution Analysis for {i}')\n",
        "  sns.histplot(df_matches[i],color = 'blue',kde = True) #Kernel Density Estimator (KDE)\n",
        "plt.show()"
      ],
      "metadata": {
        "id": "hbUvvOPX9W-_"
      },
      "execution_count": null,
      "outputs": []
    },
    {
      "cell_type": "code",
      "source": [
        "# Max Target Runs which team?\n",
        "\n",
        "df_matches[df_matches['target_runs'] == df_matches['target_runs'].max()]"
      ],
      "metadata": {
        "id": "S9oBI5-C-jcM"
      },
      "execution_count": null,
      "outputs": []
    },
    {
      "cell_type": "code",
      "source": [
        "# Min Target Runs which team?\n",
        "temp_df = df_matches[(df_matches['winner'] != 'No winner') & (df_matches['method'] == 'Normal method')]\n",
        "\n",
        "temp_df[temp_df['target_runs'] == temp_df['target_runs'].min()]"
      ],
      "metadata": {
        "id": "MHzuE-BRALYG"
      },
      "execution_count": null,
      "outputs": []
    },
    {
      "cell_type": "code",
      "source": [
        "# df_matches.describe()"
      ],
      "metadata": {
        "id": "sU0BQD4mAfdk"
      },
      "execution_count": null,
      "outputs": []
    },
    {
      "cell_type": "code",
      "source": [
        "df_matches['target_runs'].value_counts().sort_index().head(20)"
      ],
      "metadata": {
        "id": "1TlKTZcfBh7x"
      },
      "execution_count": null,
      "outputs": []
    },
    {
      "cell_type": "code",
      "source": [
        "df_matches[df_matches['date'].dt.year == 2017].sort_values(by = 'winner')[['winner','result','result_margin']]"
      ],
      "metadata": {
        "id": "LBdhPQkbCmE8"
      },
      "execution_count": null,
      "outputs": []
    },
    {
      "cell_type": "code",
      "source": [
        "# LOC , ILOC\n",
        "# Index = 603"
      ],
      "metadata": {
        "id": "ZDSpnuNoDlv7"
      },
      "execution_count": null,
      "outputs": []
    },
    {
      "cell_type": "code",
      "source": [
        "df_matches.iloc[603,:]"
      ],
      "metadata": {
        "id": "kjGYYaw7EPnb"
      },
      "execution_count": null,
      "outputs": []
    },
    {
      "cell_type": "code",
      "source": [
        "131-82"
      ],
      "metadata": {
        "id": "g8yzQFk3E8qR"
      },
      "execution_count": null,
      "outputs": []
    },
    {
      "cell_type": "code",
      "source": [
        "df_matches.columns"
      ],
      "metadata": {
        "id": "uyLA0KyWFaIz"
      },
      "execution_count": null,
      "outputs": []
    },
    {
      "cell_type": "code",
      "source": [
        "# Stadium wise Team highest score\n",
        "\n",
        "df_matches.groupby(['venue','team1'])['target_runs'].agg(['max','min','mean'])"
      ],
      "metadata": {
        "id": "oEQ7mO38Gjn4"
      },
      "execution_count": null,
      "outputs": []
    },
    {
      "cell_type": "code",
      "source": [
        "# Pivot table\n",
        "\n",
        "df_matches['year'] = df_matches['date'].dt.year\n",
        "df_matches.columns"
      ],
      "metadata": {
        "id": "jQKowraJH0gN"
      },
      "execution_count": null,
      "outputs": []
    },
    {
      "cell_type": "code",
      "source": [
        "all_team_year_df = df_matches.pivot_table(index = 'year',columns ='team1',values = 'target_runs')\n",
        "all_team_year_df = all_team_year_df.round(0)"
      ],
      "metadata": {
        "id": "H5_9goBbS5EN"
      },
      "execution_count": null,
      "outputs": []
    },
    {
      "cell_type": "code",
      "source": [
        "plt.figure(figsize = (15,7))\n",
        "# pd.options.display.float_format = '{:.2f}'.format\n",
        "sns.heatmap(all_team_year_df,fmt=\"\",annot = True)\n",
        "plt.show()"
      ],
      "metadata": {
        "id": "0WJvqtquSYd_"
      },
      "execution_count": null,
      "outputs": []
    },
    {
      "cell_type": "code",
      "source": [
        "all_team_year_df = df_matches.pivot_table(index = 'year',columns ='team1',values = 'target_runs',aggfunc= 'min')\n",
        "all_team_year_df = all_team_year_df.round(0)\n",
        "\n",
        "plt.figure(figsize = (15,7))\n",
        "# pd.options.display.float_format = '{:.2f}'.format\n",
        "sns.heatmap(all_team_year_df,fmt=\"\",annot = True,cmap='mako')\n",
        "plt.title('IPL all Session Team Minimum score')\n",
        "plt.show()"
      ],
      "metadata": {
        "id": "HeJiWZr6Tr7Z"
      },
      "execution_count": null,
      "outputs": []
    },
    {
      "cell_type": "code",
      "source": [
        "all_team_year_df = df_matches.pivot_table(index = 'year',columns ='team1',values = 'target_runs',aggfunc= 'max')\n",
        "all_team_year_df = all_team_year_df.round(0)\n",
        "\n",
        "plt.figure(figsize = (15,7))\n",
        "# pd.options.display.float_format = '{:.2f}'.format\n",
        "sns.heatmap(all_team_year_df,fmt=\"\",annot = True,cmap='cool')\n",
        "plt.title('IPL all Session Team Maximum score')\n",
        "plt.show()"
      ],
      "metadata": {
        "id": "RsaB2Gtaaf1k"
      },
      "execution_count": null,
      "outputs": []
    },
    {
      "cell_type": "code",
      "source": [
        "# H/W: Team 2 all year analysis"
      ],
      "metadata": {
        "id": "2ipu263vbRay"
      },
      "execution_count": null,
      "outputs": []
    },
    {
      "cell_type": "code",
      "source": [
        "# LOC vs ILOC\n",
        "# LOC: Location Name\n",
        "# ILOC: Index Pass"
      ],
      "metadata": {
        "id": "GKASQxDlb0GL"
      },
      "execution_count": null,
      "outputs": []
    },
    {
      "cell_type": "code",
      "source": [
        "df_matches.loc[50:55,['team1','team2','result']]"
      ],
      "metadata": {
        "id": "oYg7GQeCcN8r"
      },
      "execution_count": null,
      "outputs": []
    },
    {
      "cell_type": "code",
      "source": [
        "df_matches.columns"
      ],
      "metadata": {
        "id": "D-DUma0hc5VJ"
      },
      "execution_count": null,
      "outputs": []
    },
    {
      "cell_type": "code",
      "source": [
        "df_matches.iloc[50:55,[7,8,12]]"
      ],
      "metadata": {
        "id": "SDKQBQ6bcOzv"
      },
      "execution_count": null,
      "outputs": []
    },
    {
      "cell_type": "code",
      "source": [
        "# 2016> all rows and columns last 3"
      ],
      "metadata": {
        "id": "MP5siPXWdA-Y"
      },
      "execution_count": null,
      "outputs": []
    },
    {
      "cell_type": "code",
      "source": [
        "rows = df_matches[df_matches['year']>=2016].index\n",
        "\n",
        "df_matches.iloc[rows ,-3:]"
      ],
      "metadata": {
        "id": "xCoYgMUkdbVm"
      },
      "execution_count": null,
      "outputs": []
    },
    {
      "cell_type": "code",
      "source": [
        "df_deliveries.sample(5)"
      ],
      "metadata": {
        "id": "wLPHRGkBds3E"
      },
      "execution_count": null,
      "outputs": []
    },
    {
      "cell_type": "code",
      "source": [
        "df_deliveries.iloc[123257,:]"
      ],
      "metadata": {
        "id": "Wk_Sf5cpfgEl"
      },
      "execution_count": null,
      "outputs": []
    },
    {
      "cell_type": "code",
      "source": [
        "df_deliveries.info()"
      ],
      "metadata": {
        "id": "r358L2SpgAFc"
      },
      "execution_count": null,
      "outputs": []
    },
    {
      "cell_type": "code",
      "source": [
        "df_deliveries.isna().sum().sort_values(ascending = False)"
      ],
      "metadata": {
        "id": "-dqimmyUg44Z"
      },
      "execution_count": null,
      "outputs": []
    },
    {
      "cell_type": "code",
      "source": [
        "df_deliveries.loc[:,['fielder','dismissal_kind','player_dismissed','extras_type']]"
      ],
      "metadata": {
        "id": "cgxRlk_vhScB"
      },
      "execution_count": null,
      "outputs": []
    },
    {
      "cell_type": "code",
      "source": [
        "normal_cols = ['fielder','dismissal_kind','player_dismissed','extras_type']"
      ],
      "metadata": {
        "id": "S0jtLWk-h9Tt"
      },
      "execution_count": null,
      "outputs": []
    },
    {
      "cell_type": "code",
      "source": [
        "for i in normal_cols:\n",
        "  print(f'Analysis for {i}\\n\\n')\n",
        "  display(df_deliveries[i].value_counts().head(10))"
      ],
      "metadata": {
        "id": "SYod4ZxJiP3R"
      },
      "execution_count": null,
      "outputs": []
    },
    {
      "cell_type": "code",
      "source": [
        "plt.title('Checking Null values Distribution!!')\n",
        "sns.heatmap(df_deliveries.isna())\n",
        "plt.show()"
      ],
      "metadata": {
        "id": "bnhjY-WbivU7"
      },
      "execution_count": null,
      "outputs": []
    },
    {
      "cell_type": "code",
      "source": [
        "# Fill NAN Values\n",
        "\n",
        "df_deliveries.fillna('Unknown', inplace = True)\n",
        "print('Done')"
      ],
      "metadata": {
        "id": "CpWoIsHbjZFF"
      },
      "execution_count": null,
      "outputs": []
    },
    {
      "cell_type": "code",
      "source": [
        "plt.title('Checking Null values Distribution!!')\n",
        "sns.heatmap(df_deliveries.isna())\n",
        "plt.show()"
      ],
      "metadata": {
        "id": "yGAsffIYj2do"
      },
      "execution_count": null,
      "outputs": []
    },
    {
      "cell_type": "code",
      "source": [
        "df_deliveries.sample()"
      ],
      "metadata": {
        "id": "NMvMLBX0j4fn"
      },
      "execution_count": null,
      "outputs": []
    },
    {
      "cell_type": "code",
      "source": [
        "batsman = 'DA Miller'\n",
        "\n",
        "\n",
        "def get_player_perfromance_stats(batsman):\n",
        "\n",
        "  player_df =df_deliveries[df_deliveries['batter'] == batsman]\n",
        "\n",
        "  x = player_df['batsman_runs'].value_counts().sort_index().index\n",
        "  y = player_df['batsman_runs'].value_counts().sort_index().values\n",
        "  plt.figure(figsize = (4,2))\n",
        "  plt.title(f'Analysis for {batsman}')\n",
        "  ax = plt.bar(x,y,color = sns.color_palette('magma',7))\n",
        "  plt.bar_label(ax)\n",
        "  plt.show()\n",
        "\n",
        "  total_runs = player_df['batsman_runs'].sum()\n",
        "\n",
        "  print(f'{batsman} Total Runs in IPL History: {total_runs}')\n",
        "\n",
        "\n",
        "  print(f'Batsman {batsman} Top 10 Performance Against Bowlers')\n",
        "  perfomance_df = player_df.groupby('bowler')['batsman_runs'].agg(['sum','mean']).reset_index().sort_values(by = 'sum',ascending=False).head(10)\n",
        "\n",
        "\n",
        "  display(perfomance_df)\n"
      ],
      "metadata": {
        "id": "nwxxInaIkQMW"
      },
      "execution_count": null,
      "outputs": []
    },
    {
      "cell_type": "code",
      "source": [],
      "metadata": {
        "id": "Fns55jVoolFy"
      },
      "execution_count": null,
      "outputs": []
    },
    {
      "cell_type": "code",
      "source": [
        "all_batsman = df_deliveries['batter'].unique()\n",
        "print('done')"
      ],
      "metadata": {
        "id": "n4q40EWokqV8"
      },
      "execution_count": null,
      "outputs": []
    },
    {
      "cell_type": "code",
      "source": [
        "import random\n",
        "for i in random.choices(all_batsman,k = 5):\n",
        "  get_player_perfromance_stats(i)\n"
      ],
      "metadata": {
        "id": "7i1THttWn7_Q"
      },
      "execution_count": null,
      "outputs": []
    },
    {
      "cell_type": "code",
      "source": [
        "# Data Frame JOIN\n"
      ],
      "metadata": {
        "id": "_444i4VIqvYT"
      },
      "execution_count": null,
      "outputs": []
    }
  ]
}