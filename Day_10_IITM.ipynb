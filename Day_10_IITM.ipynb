{
  "nbformat": 4,
  "nbformat_minor": 0,
  "metadata": {
    "colab": {
      "private_outputs": true,
      "provenance": [],
      "include_colab_link": true
    },
    "kernelspec": {
      "name": "python3",
      "display_name": "Python 3"
    },
    "language_info": {
      "name": "python"
    }
  },
  "cells": [
    {
      "cell_type": "markdown",
      "metadata": {
        "id": "view-in-github",
        "colab_type": "text"
      },
      "source": [
        "<a href=\"https://colab.research.google.com/github/shivamvij100/data-science/blob/main/Day_10_IITM.ipynb\" target=\"_parent\"><img src=\"https://colab.research.google.com/assets/colab-badge.svg\" alt=\"Open In Colab\"/></a>"
      ]
    },
    {
      "cell_type": "code",
      "execution_count": null,
      "metadata": {
        "id": "38inWfbEu_qd"
      },
      "outputs": [],
      "source": [
        "import qrcode\n",
        "img = qrcode.make('https://colab.research.google.com/drive/1Tdegaoc2vGGsWsKlGkqjt9M1bjbKkFwW?usp=sharing')\n",
        "img.save('myqr.png')\n"
      ]
    },
    {
      "cell_type": "code",
      "source": [
        "# pip install qrcode"
      ],
      "metadata": {
        "id": "HS-ep_SxvBjo"
      },
      "execution_count": null,
      "outputs": []
    },
    {
      "cell_type": "code",
      "source": [
        "# Split\n",
        "# where\n",
        "# clip\n",
        "# Broadcasting\n",
        "\n",
        "\n",
        "# Pandas Introduction\n"
      ],
      "metadata": {
        "id": "J6sDid9GvCkA"
      },
      "execution_count": null,
      "outputs": []
    },
    {
      "cell_type": "code",
      "source": [
        "import numpy as np\n",
        "import matplotlib.pyplot as plt\n"
      ],
      "metadata": {
        "id": "Pvnlf_5bwVMh"
      },
      "execution_count": null,
      "outputs": []
    },
    {
      "cell_type": "code",
      "source": [
        "arr = plt.imread(r'/content/amitabh.jpg')"
      ],
      "metadata": {
        "id": "iXm-luKjxDpd"
      },
      "execution_count": null,
      "outputs": []
    },
    {
      "cell_type": "code",
      "source": [
        "amitabh_arr = arr.copy()"
      ],
      "metadata": {
        "id": "DtbKZyuhxl8z"
      },
      "execution_count": null,
      "outputs": []
    },
    {
      "cell_type": "code",
      "source": [
        "plt.imshow(amitabh_arr)"
      ],
      "metadata": {
        "id": "2VvgHYs-xsek"
      },
      "execution_count": null,
      "outputs": []
    },
    {
      "cell_type": "code",
      "source": [
        "amitabh_arr.shape"
      ],
      "metadata": {
        "id": "4q4eHU5Kx7EA"
      },
      "execution_count": null,
      "outputs": []
    },
    {
      "cell_type": "code",
      "source": [
        "a = np.random.randint(0,255,(50,50,3))\n",
        "plt.imshow(a)"
      ],
      "metadata": {
        "id": "tr-DVo7Yx_K5"
      },
      "execution_count": null,
      "outputs": []
    },
    {
      "cell_type": "code",
      "source": [
        "while True:\n",
        "  import numpy as np\n",
        "  import matplotlib.pyplot as plt\n",
        "  import time\n",
        "  a = np.random.randint(0,255,(5,5,3))\n",
        "  plt.imshow(a)\n",
        "  plt.show()\n",
        "  time.sleep(0.3)\n",
        "  display(clear = True)"
      ],
      "metadata": {
        "id": "HNIt39F2ym-K"
      },
      "execution_count": null,
      "outputs": []
    },
    {
      "cell_type": "code",
      "source": [
        "\n",
        "a = np.random.randint(0,255,(4,4,3))\n",
        "a"
      ],
      "metadata": {
        "id": "FGHaedk2yqfm"
      },
      "execution_count": null,
      "outputs": []
    },
    {
      "cell_type": "code",
      "source": [
        "final_arr = np.split(a,2)\n",
        "len(final_arr)"
      ],
      "metadata": {
        "id": "ivxrdwZV1jBg"
      },
      "execution_count": null,
      "outputs": []
    },
    {
      "cell_type": "code",
      "source": [
        "plt.imshow(a)"
      ],
      "metadata": {
        "id": "UMRCa7AN12YD"
      },
      "execution_count": null,
      "outputs": []
    },
    {
      "cell_type": "code",
      "source": [
        "plt.imshow(final_arr[1])"
      ],
      "metadata": {
        "id": "jd8aFrXE2IYv"
      },
      "execution_count": null,
      "outputs": []
    },
    {
      "cell_type": "code",
      "source": [
        "plt.imshow(a)"
      ],
      "metadata": {
        "id": "aYG6PhOB2MMh"
      },
      "execution_count": null,
      "outputs": []
    },
    {
      "cell_type": "code",
      "source": [
        "arr_1 = np.split(a,2,axis = 1)"
      ],
      "metadata": {
        "id": "U47LeJyu3UFw"
      },
      "execution_count": null,
      "outputs": []
    },
    {
      "cell_type": "code",
      "source": [
        "len(arr_1)"
      ],
      "metadata": {
        "id": "rza73lvY3aqW"
      },
      "execution_count": null,
      "outputs": []
    },
    {
      "cell_type": "code",
      "source": [
        "a"
      ],
      "metadata": {
        "id": "GDTwRxQr3qn0"
      },
      "execution_count": null,
      "outputs": []
    },
    {
      "cell_type": "code",
      "source": [
        "arr_1"
      ],
      "metadata": {
        "id": "KAjzrW8u3wyx"
      },
      "execution_count": null,
      "outputs": []
    },
    {
      "cell_type": "code",
      "source": [
        "a.shape"
      ],
      "metadata": {
        "id": "EY2lJ7wz4Dlv"
      },
      "execution_count": null,
      "outputs": []
    },
    {
      "cell_type": "code",
      "source": [
        "np.split(a,3, axis = 2)"
      ],
      "metadata": {
        "id": "MtpvBFpj4YVD"
      },
      "execution_count": null,
      "outputs": []
    },
    {
      "cell_type": "code",
      "source": [
        "a"
      ],
      "metadata": {
        "id": "wllKyOsf4kYp"
      },
      "execution_count": null,
      "outputs": []
    },
    {
      "cell_type": "code",
      "source": [
        "arr_3_part = np.split(a,3, axis = 2)"
      ],
      "metadata": {
        "id": "y7apNVny4pQ7"
      },
      "execution_count": null,
      "outputs": []
    },
    {
      "cell_type": "code",
      "source": [
        "plt.imshow(a)"
      ],
      "metadata": {
        "id": "4yHJbxMo5VpV"
      },
      "execution_count": null,
      "outputs": []
    },
    {
      "cell_type": "code",
      "source": [
        "len(arr_3_part)"
      ],
      "metadata": {
        "id": "Rc98Dtje5loL"
      },
      "execution_count": null,
      "outputs": []
    },
    {
      "cell_type": "code",
      "source": [
        "plt.imshow(arr_3_part[0])"
      ],
      "metadata": {
        "id": "F2uIkHSk5tO4"
      },
      "execution_count": null,
      "outputs": []
    },
    {
      "cell_type": "code",
      "source": [
        "plt.imshow(arr_3_part[1])"
      ],
      "metadata": {
        "id": "qsP6ZEFu5uoG"
      },
      "execution_count": null,
      "outputs": []
    },
    {
      "cell_type": "code",
      "source": [
        "plt.imshow(arr_3_part[2])"
      ],
      "metadata": {
        "id": "u__8D40P5-oS"
      },
      "execution_count": null,
      "outputs": []
    },
    {
      "cell_type": "code",
      "source": [
        "arr.shape"
      ],
      "metadata": {
        "id": "I9qRZqsX5_ks"
      },
      "execution_count": null,
      "outputs": []
    },
    {
      "cell_type": "code",
      "source": [
        "plt.imshow(np.split(arr,3,axis = 2)[2])"
      ],
      "metadata": {
        "id": "tDiHLTw36GQc"
      },
      "execution_count": null,
      "outputs": []
    },
    {
      "cell_type": "code",
      "source": [
        "plt.imshow(np.split(arr,2,axis = 0)[0])"
      ],
      "metadata": {
        "id": "36cFZIET6PRn"
      },
      "execution_count": null,
      "outputs": []
    },
    {
      "cell_type": "code",
      "source": [
        "arr.shape"
      ],
      "metadata": {
        "id": "FN564RHn6s5l"
      },
      "execution_count": null,
      "outputs": []
    },
    {
      "cell_type": "code",
      "source": [
        "1000//3"
      ],
      "metadata": {
        "id": "QDeHHc6-9Dt7"
      },
      "execution_count": null,
      "outputs": []
    },
    {
      "cell_type": "code",
      "source": [
        "plt.imshow(arr[:,:333,:])"
      ],
      "metadata": {
        "id": "Orka0xWQ9S-O"
      },
      "execution_count": null,
      "outputs": []
    },
    {
      "cell_type": "code",
      "source": [
        "plt.imshow(arr[:,333:333*2,:])"
      ],
      "metadata": {
        "id": "ekvPoPH_9sIw"
      },
      "execution_count": null,
      "outputs": []
    },
    {
      "cell_type": "code",
      "source": [
        "plt.imshow(arr[:,333*2:,:])"
      ],
      "metadata": {
        "id": "Q81zmXKe9_3q"
      },
      "execution_count": null,
      "outputs": []
    },
    {
      "cell_type": "code",
      "source": [
        "# where\n",
        "# clip\n",
        "# Broadcasting"
      ],
      "metadata": {
        "id": "YLWlF2Ia-DKY"
      },
      "execution_count": null,
      "outputs": []
    },
    {
      "cell_type": "code",
      "source": [
        "a = np.random.randint(1,500,(4,4))\n",
        "a"
      ],
      "metadata": {
        "id": "P87KHoT2AJxO"
      },
      "execution_count": null,
      "outputs": []
    },
    {
      "cell_type": "code",
      "source": [
        "np.where(a>200)"
      ],
      "metadata": {
        "id": "5CiFPFJhAYxv"
      },
      "execution_count": null,
      "outputs": []
    },
    {
      "cell_type": "code",
      "source": [
        "np.where(a>200,'High Sales','Low Sales')"
      ],
      "metadata": {
        "id": "6Y3-5PFGA7Eb"
      },
      "execution_count": null,
      "outputs": []
    },
    {
      "cell_type": "code",
      "source": [
        "np.where(a>200,'High Sales',a)"
      ],
      "metadata": {
        "id": "aZYgONy8BRa7"
      },
      "execution_count": null,
      "outputs": []
    },
    {
      "cell_type": "code",
      "source": [
        "a"
      ],
      "metadata": {
        "id": "Nc-MWl-jB8PK"
      },
      "execution_count": null,
      "outputs": []
    },
    {
      "cell_type": "code",
      "source": [
        "np.clip(a,100,250) # outliers remove/replace"
      ],
      "metadata": {
        "id": "mdGI_2SZCXTZ"
      },
      "execution_count": null,
      "outputs": []
    },
    {
      "cell_type": "code",
      "source": [
        "# Broadcasting"
      ],
      "metadata": {
        "id": "-mrX0OMIDEJK"
      },
      "execution_count": null,
      "outputs": []
    },
    {
      "cell_type": "code",
      "source": [
        "a = np.random.randint(1,10,7)\n",
        "b = np.random.randint(1,10,(1,7))\n",
        "\n",
        "print(a)\n",
        "print('-------\\n\\n')\n",
        "print(b)"
      ],
      "metadata": {
        "id": "F8SdwqeXD9G6"
      },
      "execution_count": null,
      "outputs": []
    },
    {
      "cell_type": "code",
      "source": [
        "a + b"
      ],
      "metadata": {
        "id": "lSdFPC7DEU3g"
      },
      "execution_count": null,
      "outputs": []
    },
    {
      "cell_type": "code",
      "source": [
        "a = np.random.randint(1,10,(7,1))\n",
        "b = np.random.randint(1,10,(1,7))\n",
        "\n",
        "print(a)\n",
        "print('-------\\n\\n')\n",
        "print(b)"
      ],
      "metadata": {
        "id": "p0xdFzHEEtB-"
      },
      "execution_count": null,
      "outputs": []
    },
    {
      "cell_type": "code",
      "source": [
        "a + b"
      ],
      "metadata": {
        "id": "C-tWrLmlIwB1"
      },
      "execution_count": null,
      "outputs": []
    },
    {
      "cell_type": "code",
      "source": [
        "a = np.random.randint(1,10,(7,1))\n",
        "b = np.random.randint(1,10,(5,7))\n",
        "\n",
        "print(a)\n",
        "print('-------\\n\\n')\n",
        "print(b)"
      ],
      "metadata": {
        "id": "vgm-QpOFJ1VW"
      },
      "execution_count": null,
      "outputs": []
    },
    {
      "cell_type": "code",
      "source": [
        "a + b"
      ],
      "metadata": {
        "id": "sA9YfGrpKNE_"
      },
      "execution_count": null,
      "outputs": []
    },
    {
      "cell_type": "code",
      "source": [
        "a = np.random.randint(1,10,(1,1))\n",
        "b = np.random.randint(1,10,(5,7))\n",
        "\n",
        "print(a)\n",
        "print('-------\\n\\n')\n",
        "print(b)"
      ],
      "metadata": {
        "id": "CSKYII0MKYZo"
      },
      "execution_count": null,
      "outputs": []
    },
    {
      "cell_type": "code",
      "source": [
        "a + b"
      ],
      "metadata": {
        "id": "LzbDcy46Kopt"
      },
      "execution_count": null,
      "outputs": []
    },
    {
      "cell_type": "code",
      "source": [
        "a = np.random.randint(1,10,(1,1,5))\n",
        "b = np.random.randint(1,10,(5,5,5))\n",
        "\n",
        "print(a)\n",
        "print('-------\\n\\n')\n",
        "print(b)"
      ],
      "metadata": {
        "id": "X479lUqCK8Fd"
      },
      "execution_count": null,
      "outputs": []
    },
    {
      "cell_type": "code",
      "source": [
        "a + b"
      ],
      "metadata": {
        "id": "alIlc8GMLTdn"
      },
      "execution_count": null,
      "outputs": []
    },
    {
      "cell_type": "code",
      "source": [
        "# Introduction to Pandas"
      ],
      "metadata": {
        "id": "5kqrKCiRLjTF"
      },
      "execution_count": null,
      "outputs": []
    },
    {
      "cell_type": "code",
      "source": [
        "# Data Science\n",
        "# data : Explore (Exploratory Data Analysis)\n",
        "# EDA"
      ],
      "metadata": {
        "id": "P8IBNOwTVnS7"
      },
      "execution_count": null,
      "outputs": []
    },
    {
      "cell_type": "code",
      "source": [
        "# # Anupam: lives in nainital\n",
        "# # Piyush = 100\n",
        "# # Explore\n",
        "# Excel: EDA\n",
        "# SQL :- EDA\n",
        "# PowerBI: EDA\n",
        "# Python: EDA"
      ],
      "metadata": {
        "id": "5cTMDgj0WKIl"
      },
      "execution_count": null,
      "outputs": []
    },
    {
      "cell_type": "code",
      "source": [
        "# Python:- Programming language\n",
        "# pandas: File Handling()\n",
        "# pandas:- table"
      ],
      "metadata": {
        "id": "HXaWmxg1W7cf"
      },
      "execution_count": null,
      "outputs": []
    },
    {
      "cell_type": "code",
      "source": [
        "# dataframe: df"
      ],
      "metadata": {
        "id": "7tY1QWtEXlYp"
      },
      "execution_count": null,
      "outputs": []
    },
    {
      "cell_type": "code",
      "source": [
        "# Data Explore:- Report(Insights)\n",
        "\n",
        "# Report>>> Data Scientist"
      ],
      "metadata": {
        "id": "V9lBbgv0Xp2K"
      },
      "execution_count": null,
      "outputs": []
    },
    {
      "cell_type": "code",
      "source": [
        "import pandas as pd\n",
        "pd.__version__"
      ],
      "metadata": {
        "id": "7tOEF2oGYNnk"
      },
      "execution_count": null,
      "outputs": []
    },
    {
      "cell_type": "code",
      "source": [
        "import random\n",
        "\n",
        "products = ['Chair','Tables','Laptop','Mobile Phones','Charger']\n",
        "region = ['East','West','North','South']\n",
        "all_date = pd.date_range('01-01-2025','23-07-2025')\n",
        "\n",
        "\n",
        "\n",
        "data = {'Order_id':range(1,1001),\n",
        "        'Date':random.choices(all_date,k= 1000),\n",
        "        'Region Name':random.choices(region,k = 1000),\n",
        "        'Product Name':random.choices(products,k = 1000),\n",
        "        'Sales':np.random.randint(100,10000,1000),\n",
        "        'Qty':np.random.randint(1,10,1000),\n",
        "        'Profit':np.random.randint(-10000,10000,1000)}\n",
        "\n",
        "\n",
        "table = pd.DataFrame(data)\n",
        "table"
      ],
      "metadata": {
        "id": "_iSBdJQXYTdv"
      },
      "execution_count": null,
      "outputs": []
    },
    {
      "cell_type": "code",
      "source": [
        "# date column"
      ],
      "metadata": {
        "id": "mHbI8x6tajQY"
      },
      "execution_count": null,
      "outputs": []
    },
    {
      "cell_type": "code",
      "source": [
        "# top data  # bydefault = 5\n",
        "table.head()"
      ],
      "metadata": {
        "id": "hC_FlpKpbd_b"
      },
      "execution_count": null,
      "outputs": []
    },
    {
      "cell_type": "code",
      "source": [
        "# top data  # bydefault = 5\n",
        "table.head(10)"
      ],
      "metadata": {
        "id": "XjsB_FhebvmV"
      },
      "execution_count": null,
      "outputs": []
    },
    {
      "cell_type": "code",
      "source": [
        "# table tail\n",
        "table.tail()"
      ],
      "metadata": {
        "id": "9HOdKWA8dsE5"
      },
      "execution_count": null,
      "outputs": []
    },
    {
      "cell_type": "code",
      "source": [
        "# table tail\n",
        "table.tail(7)"
      ],
      "metadata": {
        "id": "VRBEll-oeFAl"
      },
      "execution_count": null,
      "outputs": []
    },
    {
      "cell_type": "code",
      "source": [
        "# table sample\n",
        "table.sample()"
      ],
      "metadata": {
        "id": "LrTDABmTeHc3"
      },
      "execution_count": null,
      "outputs": []
    },
    {
      "cell_type": "code",
      "source": [
        "table.sample(5)"
      ],
      "metadata": {
        "id": "-qTMKF4legMb"
      },
      "execution_count": null,
      "outputs": []
    },
    {
      "cell_type": "code",
      "source": [
        "# infomation:- about dataset\n",
        "\n",
        "table.info()"
      ],
      "metadata": {
        "id": "OQDkvPCMexgh"
      },
      "execution_count": null,
      "outputs": []
    },
    {
      "cell_type": "code",
      "source": [
        "# columns name\n",
        "\n",
        "table.columns"
      ],
      "metadata": {
        "id": "WapBdI7Ge_Xs"
      },
      "execution_count": null,
      "outputs": []
    },
    {
      "cell_type": "code",
      "source": [
        "# index\n",
        "table.index"
      ],
      "metadata": {
        "id": "w84nq0lsgjpK"
      },
      "execution_count": null,
      "outputs": []
    },
    {
      "cell_type": "code",
      "source": [
        "# isna(): it will check nan value counts\n",
        "\n",
        "table.isna()"
      ],
      "metadata": {
        "id": "JfX9EAK-gqZT"
      },
      "execution_count": null,
      "outputs": []
    },
    {
      "cell_type": "code",
      "source": [
        "table.isna().value_counts()"
      ],
      "metadata": {
        "id": "MBVB_tp3hOwy"
      },
      "execution_count": null,
      "outputs": []
    },
    {
      "cell_type": "code",
      "source": [
        "# isnull\n",
        "table.isnull().value_counts()"
      ],
      "metadata": {
        "id": "UlxGwQE1hic8"
      },
      "execution_count": null,
      "outputs": []
    },
    {
      "cell_type": "code",
      "source": [
        "url = '''https://drive.google.com/file/d/1LCtJIaP8sZPXL_aRvbmzpOpp-t-RGDLD/view?usp=sharing'''\n",
        "import qrcode\n",
        "img = qrcode.make(url)\n",
        "img.save('test.png')\n"
      ],
      "metadata": {
        "id": "gfgIeUiQhv5V"
      },
      "execution_count": null,
      "outputs": []
    },
    {
      "cell_type": "code",
      "source": [
        "google_form = '''https://forms.gle/KabwXwAep6c6VDe79'''\n",
        "import qrcode\n",
        "img = qrcode.make(google_form)\n",
        "img.save('form.png')"
      ],
      "metadata": {
        "id": "DBDnuZZxj3SM"
      },
      "execution_count": null,
      "outputs": []
    },
    {
      "cell_type": "code",
      "source": [
        "# https://forms.gle/vqCoBDqyFr4F1WN38"
      ],
      "metadata": {
        "id": "Kyf4qY1fmm9W"
      },
      "execution_count": null,
      "outputs": []
    },
    {
      "cell_type": "code",
      "source": [],
      "metadata": {
        "id": "LGIDY3vEyxu0"
      },
      "execution_count": null,
      "outputs": []
    }
  ]
}