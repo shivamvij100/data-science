{
  "nbformat": 4,
  "nbformat_minor": 0,
  "metadata": {
    "colab": {
      "private_outputs": true,
      "provenance": [],
      "include_colab_link": true
    },
    "kernelspec": {
      "name": "python3",
      "display_name": "Python 3"
    },
    "language_info": {
      "name": "python"
    }
  },
  "cells": [
    {
      "cell_type": "markdown",
      "metadata": {
        "id": "view-in-github",
        "colab_type": "text"
      },
      "source": [
        "<a href=\"https://colab.research.google.com/github/shivamvij100/data-science/blob/main/Copy_of_Day_6.ipynb\" target=\"_parent\"><img src=\"https://colab.research.google.com/assets/colab-badge.svg\" alt=\"Open In Colab\"/></a>"
      ]
    },
    {
      "cell_type": "code",
      "execution_count": null,
      "metadata": {
        "id": "TgQylnncJErv"
      },
      "outputs": [],
      "source": [
        "import qrcode\n",
        "img = qrcode.make('https://colab.research.google.com/drive/1SgQwQOgSnm_IYduZUOCcE9rqhK9_xTAg?usp=sharing')\n",
        "img.save('myqr.png')\n"
      ]
    },
    {
      "cell_type": "code",
      "source": [
        "# pip install qrcode"
      ],
      "metadata": {
        "id": "8zuolJ4DJbmo"
      },
      "execution_count": null,
      "outputs": []
    },
    {
      "cell_type": "code",
      "source": [
        "# Python Basic\n",
        "# Conditional Programming\n",
        "# Loops\n",
        "# Functional Programming\n",
        "# Module Creation\n",
        "# File Handling\n",
        "# Database connectivity\n",
        "# OOPs"
      ],
      "metadata": {
        "id": "-0Rme_eoJcHs"
      },
      "execution_count": null,
      "outputs": []
    },
    {
      "cell_type": "code",
      "source": [
        "a  = 'Naman'\n",
        "\n",
        "print(type(a))"
      ],
      "metadata": {
        "id": "cQMBSSX0MPko"
      },
      "execution_count": null,
      "outputs": []
    },
    {
      "cell_type": "code",
      "source": [
        "class IITM:\n",
        "\n",
        "  def intro():\n",
        "    print('Hello Buddy!!, how are you??')\n",
        "\n",
        "  def say_hello():\n",
        "    print('Hello!!')\n",
        "\n",
        "  def bye():\n",
        "    print('Bye Bye!!')\n"
      ],
      "metadata": {
        "id": "YLRZJK79MbQq"
      },
      "execution_count": null,
      "outputs": []
    },
    {
      "cell_type": "code",
      "source": [
        "a = int(45)\n",
        "print(type(a))"
      ],
      "metadata": {
        "id": "WMpjYS_JOfOw"
      },
      "execution_count": null,
      "outputs": []
    },
    {
      "cell_type": "code",
      "source": [
        "ayan = IITM()\n",
        "print(type(ayan))"
      ],
      "metadata": {
        "id": "xtGYDE5YOs20"
      },
      "execution_count": null,
      "outputs": []
    },
    {
      "cell_type": "code",
      "source": [
        "class Remote:\n",
        "\n",
        "  def volume_up():\n",
        "    print('Volume up by 1 unit')\n",
        "\n",
        "  def volume_down():\n",
        "    print('Volume down by 1 unit')\n",
        "\n",
        "  def power_on():\n",
        "    print('TV is ON')\n",
        "\n",
        "  def power_off():\n",
        "    print('TV is Off')\n",
        "\n",
        "\n"
      ],
      "metadata": {
        "id": "jzIvCVlASy8g"
      },
      "execution_count": null,
      "outputs": []
    },
    {
      "cell_type": "code",
      "source": [],
      "metadata": {
        "id": "uy9F-OBWiPLZ"
      },
      "execution_count": null,
      "outputs": []
    },
    {
      "cell_type": "code",
      "source": [
        "mi = Remote()\n",
        "print('Done')"
      ],
      "metadata": {
        "id": "FmwjV3yJUcLP"
      },
      "execution_count": null,
      "outputs": []
    },
    {
      "cell_type": "code",
      "source": [
        "# Software\n",
        "  # Packages\n",
        "    # Libraries\n",
        "      # Modules\n",
        "        # Class Concept\n",
        "          # Functional Programming\n",
        "            # coditional Programming\n",
        "                  # basic programming"
      ],
      "metadata": {
        "id": "yuMaCUcNO8Ez"
      },
      "execution_count": null,
      "outputs": []
    },
    {
      "cell_type": "code",
      "source": [
        "class Car:\n",
        "\n",
        "    def __init__(self):\n",
        "        color = 'Black'\n",
        "        wheel = 4\n",
        "        spare_wheel = 1\n",
        "        airbag_support = True\n",
        "        fuel_type = 'Petrol'\n",
        "        car_type = 'Sedan'\n",
        "        gear_type = 'Automatic'\n",
        "\n",
        "    # ====================================\n",
        "    #Features\n",
        "\n",
        "    def auto_park(self):\n",
        "        import IPython\n",
        "        url = '''https://cdn.shopify.com/s/files/1/0761/9962/5012/files/parking_sensor_blog_2_480x480.gif'''\n",
        "        display(IPython.display.Image(url))\n",
        "\n",
        "    def engine_on(self):\n",
        "        import pygame\n",
        "        pygame.init()\n",
        "        path = r'''C:\\Users\\salma\\Downloads\\car-engine-372477.mp3'''\n",
        "        music = pygame.mixer.Sound(path)\n",
        "        music.play()\n",
        "\n",
        "    def speed_up(self):\n",
        "        c = 10\n",
        "        while c<=200:\n",
        "            import time\n",
        "            print(f'Speed is Increasing by {c} km/hr')\n",
        "            c+= 10\n",
        "            display(clear= True)\n",
        "            time.sleep(0.5)\n",
        "\n",
        "            if c >=100:\n",
        "                print('You are crossing speed limit')\n",
        "                break\n",
        "\n"
      ],
      "metadata": {
        "id": "1xGtpLAbiPnL"
      },
      "execution_count": null,
      "outputs": []
    }
  ]
}